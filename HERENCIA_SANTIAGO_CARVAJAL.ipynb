{
  "nbformat": 4,
  "nbformat_minor": 0,
  "metadata": {
    "colab": {
      "provenance": [],
      "collapsed_sections": []
    },
    "kernelspec": {
      "name": "python3",
      "display_name": "Python 3"
    },
    "language_info": {
      "name": "python"
    }
  },
  "cells": [
    {
      "cell_type": "code",
      "execution_count": 1,
      "metadata": {
        "colab": {
          "base_uri": "https://localhost:8080/"
        },
        "id": "yEQqjxEkhZsx",
        "outputId": "b77f19be-ebb3-4db9-aec6-a7387e453477"
      },
      "outputs": [
        {
          "output_type": "stream",
          "name": "stdout",
          "text": [
            "El HUMANO tiene: \n",
            " ojos: Rojos \n",
            " cabello: blanco \n",
            " nariz: puntada \n",
            " cejas: pobladas \n",
            " ropa: oscura \n",
            " contextura: ectomorfo \n",
            " colorpiel: negro\n"
          ]
        }
      ],
      "source": [
        "class HUMANOS:\n",
        "  def __init__(self, ojos, cabello, nariz, cejas, ropa, contextura, colorpiel):\n",
        "    self.ojos = ojos\n",
        "    self.cabello = cabello\n",
        "    self.nariz = nariz\n",
        "    self.cejas = cejas\n",
        "    self.ropa = ropa\n",
        "    self.contextura = contextura\n",
        "    self.colorpiel = colorpiel\n",
        "\n",
        "  def __str__(self):\n",
        "    cadena = f'El HUMANO tiene: \\n ojos: {self.ojos} \\n cabello: {self.cabello} \\n nariz: {self.nariz} \\n cejas: {self.cejas} \\n ropa: {self.ropa} \\n contextura: {self.contextura} \\n colorpiel: {self.colorpiel}'\n",
        "    return cadena\n",
        " \n",
        "human = HUMANOS(\"Rojos\", \"blanco\", \"puntada\", \"pobladas\", \"oscura\", \"ectomorfo\", \"negro\")\n",
        "print(human)"
      ]
    }
  ]
}
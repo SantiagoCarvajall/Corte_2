{
  "nbformat": 4,
  "nbformat_minor": 0,
  "metadata": {
    "colab": {
      "provenance": [],
      "collapsed_sections": []
    },
    "kernelspec": {
      "name": "python3",
      "display_name": "Python 3"
    },
    "language_info": {
      "name": "python"
    }
  },
  "cells": [
    {
      "cell_type": "markdown",
      "source": [
        "#POO: Programación orientada a objetos (OOP)\n",
        "\n",
        "class (nombre de la clase):"
      ],
      "metadata": {
        "id": "e9GQAn9wcsM2"
      }
    },
    {
      "cell_type": "code",
      "execution_count": null,
      "metadata": {
        "id": "7y2mh9Jkcq1m"
      },
      "outputs": [],
      "source": [
        "class Empleado:#Esto es una clase\n",
        "#__init__ función constructor\n",
        "  def __init__(self,nombre,edad,ID,salario):\n",
        "    self.nombre=nombre\n",
        "    self.edad=edad\n",
        "    self.ID=ID\n",
        "    self.salario=salario\n",
        "\n",
        "  def __repr__(self) -> str:\n",
        "    return f\"Nombre:{self.nombre}, Edad:{self.edad}, ID:{self.ID}, Salario:{self.salario}\""
      ]
    },
    {
      "cell_type": "code",
      "source": [
        "sonia=Empleado(\"María\",27,\"NOSE\",120000)"
      ],
      "metadata": {
        "id": "Vr53PdyZdV4r"
      },
      "execution_count": null,
      "outputs": []
    },
    {
      "cell_type": "code",
      "source": [
        "print(sonia)"
      ],
      "metadata": {
        "colab": {
          "base_uri": "https://localhost:8080/"
        },
        "id": "6fB1SrXUdZ_3",
        "outputId": "e41eb5e8-4296-4c9f-e8d9-611836c8405b"
      },
      "execution_count": null,
      "outputs": [
        {
          "output_type": "stream",
          "name": "stdout",
          "text": [
            "Nombre:María, Edad:27, ID:NOSE, Salario:120000\n"
          ]
        }
      ]
    },
    {
      "cell_type": "code",
      "source": [
        "sonia.nombre"
      ],
      "metadata": {
        "colab": {
          "base_uri": "https://localhost:8080/",
          "height": 35
        },
        "id": "zONhAGxQevaj",
        "outputId": "88f4ae1d-acea-41d7-9910-7c74a05eb47b"
      },
      "execution_count": null,
      "outputs": [
        {
          "output_type": "execute_result",
          "data": {
            "text/plain": [
              "'María'"
            ],
            "application/vnd.google.colaboratory.intrinsic+json": {
              "type": "string"
            }
          },
          "metadata": {},
          "execution_count": 9
        }
      ]
    },
    {
      "cell_type": "code",
      "source": [
        "sonia.salario=1250000"
      ],
      "metadata": {
        "id": "K8gQxQQTfB56"
      },
      "execution_count": null,
      "outputs": []
    },
    {
      "cell_type": "code",
      "source": [
        "sonia.salario"
      ],
      "metadata": {
        "colab": {
          "base_uri": "https://localhost:8080/"
        },
        "id": "M5UsN7e2fKaJ",
        "outputId": "be943045-dbc5-408c-fa97-85564bb57633"
      },
      "execution_count": null,
      "outputs": [
        {
          "output_type": "execute_result",
          "data": {
            "text/plain": [
              "1250000"
            ]
          },
          "metadata": {},
          "execution_count": 12
        }
      ]
    },
    {
      "cell_type": "code",
      "source": [
        "sonia.ID=\"U001585\""
      ],
      "metadata": {
        "id": "0tEaCLG6fjhx"
      },
      "execution_count": null,
      "outputs": []
    },
    {
      "cell_type": "code",
      "source": [
        "sonia.__dict__#Para ver los atributos del constructor"
      ],
      "metadata": {
        "colab": {
          "base_uri": "https://localhost:8080/"
        },
        "id": "bA1M_FV9fqkZ",
        "outputId": "ca3a63c5-7570-44e5-a7eb-ff27ec477e4f"
      },
      "execution_count": null,
      "outputs": [
        {
          "output_type": "execute_result",
          "data": {
            "text/plain": [
              "{'nombre': 'María', 'edad': 27, 'ID': 'U001585', 'salario': 1250000}"
            ]
          },
          "metadata": {},
          "execution_count": 14
        }
      ]
    },
    {
      "cell_type": "code",
      "source": [
        "if sonia.salario<1000000:\n",
        "  sonia.salario=1.2*sonia.salario\n",
        "  print(\"Joven proletariada, aquí tiene su ayuda\")\n",
        "else:\n",
        "  print(\"Los asalariados que tienen el control de los medios de producción no reciben ayuda\")"
      ],
      "metadata": {
        "colab": {
          "base_uri": "https://localhost:8080/"
        },
        "id": "gqq39704f-Kp",
        "outputId": "a169a586-9592-4331-8e5c-838da1d2c36d"
      },
      "execution_count": null,
      "outputs": [
        {
          "output_type": "stream",
          "name": "stdout",
          "text": [
            "Los asalariados que tienen el control de los medios de producción no reciben ayuda\n"
          ]
        }
      ]
    },
    {
      "cell_type": "code",
      "source": [
        "class Tienda:\n",
        "  def __init__(self,producto,precio,unidad) -> None:\n",
        "    self.producto=producto\n",
        "    self.precio=precio\n",
        "    self.unidad=unidad\n",
        "  \n",
        "  def calculo(self):\n",
        "    total=self.unidad*self.precio\n",
        "    return total"
      ],
      "metadata": {
        "id": "plpVGsIjhSqY"
      },
      "execution_count": null,
      "outputs": []
    },
    {
      "cell_type": "code",
      "source": [
        "producto1=Tienda(\"Banano\",500,3)"
      ],
      "metadata": {
        "id": "CY9F_Mj0iJ2X"
      },
      "execution_count": null,
      "outputs": []
    },
    {
      "cell_type": "code",
      "source": [
        "producto1.calculo()"
      ],
      "metadata": {
        "colab": {
          "base_uri": "https://localhost:8080/"
        },
        "id": "RiLG0IbHiZd-",
        "outputId": "01d8d491-4530-47a2-dbe4-c5a4c0bae646"
      },
      "execution_count": null,
      "outputs": [
        {
          "output_type": "execute_result",
          "data": {
            "text/plain": [
              "1500"
            ]
          },
          "metadata": {},
          "execution_count": 22
        }
      ]
    },
    {
      "cell_type": "code",
      "source": [
        "empleado2=Empleado(\"Victor\",38,\"1\",2000000)"
      ],
      "metadata": {
        "id": "xEsfWyL3jBM9"
      },
      "execution_count": null,
      "outputs": []
    },
    {
      "cell_type": "code",
      "source": [
        "if empleado2.salario>sonia.salario:\n",
        "  print(f\"{empleado2.nombre} gana más que {sonia.nombre}\")\n",
        "elif empleado2.salario<sonia.salario:\n",
        "  print(f\"{empleado2.nombre} gana menos que {sonia.salario}\")\n",
        "else:\n",
        "  print(f\"{empleado2.nombre} gana lo mismo {sonia.salario}\")"
      ],
      "metadata": {
        "colab": {
          "base_uri": "https://localhost:8080/"
        },
        "id": "LhaSxA8rkXrs",
        "outputId": "189927ec-dede-4cc4-8d81-254065c40151"
      },
      "execution_count": null,
      "outputs": [
        {
          "output_type": "stream",
          "name": "stdout",
          "text": [
            "Victor gana más que María\n"
          ]
        }
      ]
    },
    {
      "cell_type": "code",
      "source": [
        "class Fraccion:\n",
        "  #Atributos de clase\n",
        "  num=0\n",
        "  den=1\n",
        "\n",
        "  def __init__(self,num=0,den=1) -> None:\n",
        "    self.num=num\n",
        "    self.den=den\n",
        "  \n",
        "  def multiplica(self,b):\n",
        "    num=self.num*b.num\n",
        "    den=self.den*b.den\n",
        "    r=Fraccion(num,den)\n",
        "    return r\n",
        "\n",
        "  def imprimir(self):\n",
        "    print(self.num,\"/\",self.den)"
      ],
      "metadata": {
        "id": "V62mkIg2k9QC"
      },
      "execution_count": null,
      "outputs": []
    },
    {
      "cell_type": "code",
      "source": [
        "a=Fraccion(4,5)\n",
        "a.imprimir()"
      ],
      "metadata": {
        "colab": {
          "base_uri": "https://localhost:8080/"
        },
        "id": "oexYDF9Yl_26",
        "outputId": "76557e93-70f8-493d-8140-cbdbd29829eb"
      },
      "execution_count": null,
      "outputs": [
        {
          "output_type": "stream",
          "name": "stdout",
          "text": [
            "4 / 5\n"
          ]
        }
      ]
    },
    {
      "cell_type": "code",
      "source": [
        "c=Fraccion(7,4)\n",
        "a1=a.multiplica(c)"
      ],
      "metadata": {
        "id": "hfpN1Tvxm9PJ"
      },
      "execution_count": null,
      "outputs": []
    },
    {
      "cell_type": "code",
      "source": [
        "a1.imprimir()"
      ],
      "metadata": {
        "colab": {
          "base_uri": "https://localhost:8080/"
        },
        "id": "9fWRhAbMndl6",
        "outputId": "3e1fe783-d6ff-415e-b4d3-f6a110513d70"
      },
      "execution_count": null,
      "outputs": [
        {
          "output_type": "stream",
          "name": "stdout",
          "text": [
            "28 / 20\n"
          ]
        }
      ]
    },
    {
      "cell_type": "code",
      "source": [
        "a2=Fraccion(1,0)"
      ],
      "metadata": {
        "id": "61BxsInRng95"
      },
      "execution_count": null,
      "outputs": []
    }
  ]
}
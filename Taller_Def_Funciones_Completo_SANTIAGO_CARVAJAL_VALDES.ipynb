{
  "nbformat": 4,
  "nbformat_minor": 0,
  "metadata": {
    "colab": {
      "provenance": [],
      "collapsed_sections": []
    },
    "kernelspec": {
      "name": "python3",
      "display_name": "Python 3"
    },
    "language_info": {
      "name": "python"
    }
  },
  "cells": [
    {
      "cell_type": "code",
      "execution_count": null,
      "metadata": {
        "id": "6mG_MmhNbJDv"
      },
      "outputs": [],
      "source": [
        "#Ejercicio 1\n",
        "n1=int(input(\"Dame un número: \"))\n",
        "n2=int(input(\"Dame un número: \"))\n",
        "def Calcular (a,b):\n",
        "  if a>b:\n",
        "   print(\"El primer número es el mayor.\")\n",
        "  elif b>a:\n",
        "   print(\"El segundo número es el mayor.\")\n",
        "  else:\n",
        "    print(\"Los números son iguales.\")\n",
        "\n",
        "Calcular (n1,n2)"
      ]
    },
    {
      "cell_type": "code",
      "source": [
        "#Ejercicio 2\n",
        "n1=int(input(\"Dame un número: \"))\n",
        "n2=int(input(\"Dame un número: \"))\n",
        "n3=int(input(\"Dame un número: \"))\n",
        "def Calcular (a,b,c):\n",
        "  if a>b  and a>c:\n",
        "   print(\"El primer número es el mayor.\")\n",
        "  elif b>a and b>c:\n",
        "   print(\"El segundo número es el mayor.\")\n",
        "  elif c>a and c>b:\n",
        "   print(\"El tercer número es el mayor.\")\n",
        "  else:\n",
        "    print(\"Los números son iguales.\")\n",
        "Calcular (n1,n2,n3)"
      ],
      "metadata": {
        "id": "2bWCejfOdNE6"
      },
      "execution_count": null,
      "outputs": []
    },
    {
      "cell_type": "code",
      "source": [
        "#Ejercicio 3\n",
        "numero1=int(input(\"Dame un número: \"))\n",
        "numero2=int(input(\"Dame un número: \"))\n",
        "numero3=int(input(\"Dame un número: \"))\n",
        "lista=[numero1,numero2,numero3]\n",
        "def Sumar (a):\n",
        "  suma=[numero1+numero2+numero3]\n",
        "  print(f\"La suma de tus números es {suma}\")\n",
        "Sumar (lista)"
      ],
      "metadata": {
        "id": "F_ty70g-d0wg"
      },
      "execution_count": null,
      "outputs": []
    },
    {
      "cell_type": "code",
      "source": [
        "#Ejercicio 4\n",
        "numero1=int(input(\"Dame un número: \"))\n",
        "numero2=int(input(\"Dame un número: \"))\n",
        "numero3=int(input(\"Dame un número: \"))\n",
        "numero4=int(input(\"Dame un número: \"))\n",
        "lista=[numero1,numero2,numero3]\n",
        "def Sumar (a):\n",
        "  suma=[numero1+numero2+numero3+numero4]\n",
        "  print(f\"La suma de tus números es {suma}\")\n",
        "Sumar (lista)"
      ],
      "metadata": {
        "id": "EC8Nuki2fsl-"
      },
      "execution_count": null,
      "outputs": []
    },
    {
      "cell_type": "code",
      "source": [
        "#Ejercicio 5\n",
        "cantidad=int(input(\"Dime la cantidad de números: \"))\n",
        "def Sumar (n):\n",
        "  lista=[]\n",
        "  suma=0\n",
        "  for i in range(0,n):\n",
        "   numeros=int(input(\"Dame un número: \"))\n",
        "   lista.append(numeros)\n",
        "   suma=suma+lista[i]\n",
        "  print(f\"Tu lista es: {lista}\")\n",
        "  print(f\"La suma de los elementos de tu lista es: {suma}\")\n",
        "Sumar (cantidad)"
      ],
      "metadata": {
        "id": "svwVjh_XhW7s"
      },
      "execution_count": null,
      "outputs": []
    },
    {
      "cell_type": "code",
      "source": [
        "#Ejercicio 6\n",
        "numero1=int(input(\"Dame un número: \"))\n",
        "numero2=int(input(\"Dame un número: \"))\n",
        "numero3=int(input(\"Dame un número: \"))\n",
        "lista=[numero1,numero2,numero3]\n",
        "def multi (a):\n",
        "  multi=[numero1*numero2*numero3]\n",
        "  print(f\"La multiplicación de tus números es {multi}\")\n",
        "multi (lista)"
      ],
      "metadata": {
        "id": "TJKFy_mss7pr"
      },
      "execution_count": null,
      "outputs": []
    },
    {
      "cell_type": "code",
      "source": [
        "#Ejercicio 7\n",
        "numero1=int(input(\"Dame un número: \"))\n",
        "numero2=int(input(\"Dame un número: \"))\n",
        "numero3=int(input(\"Dame un número: \"))\n",
        "numero4=int(input(\"Dame un número: \"))\n",
        "lista=[numero1,numero2,numero3,numero4]\n",
        "def multi (a):\n",
        "  multi=[numero1*numero2*numero3*numero4]\n",
        "  print(f\"La multiplicación de tus números es {multi}\")\n",
        "multi (lista)"
      ],
      "metadata": {
        "id": "Ay7iC0GitUHZ"
      },
      "execution_count": null,
      "outputs": []
    },
    {
      "cell_type": "code",
      "source": [
        "#Ejercicio 8\n",
        "cantidad=int(input(\"Dime la cantidad de números: \"))\n",
        "def multi (n):\n",
        "  lista=[]\n",
        "  multis=1\n",
        "  for i in range(0,n):\n",
        "   numeros=int(input(\"Dame un número: \"))\n",
        "   lista.append(numeros)\n",
        "   multis=multis*lista[i]\n",
        "  print(f\"Tu lista es: {lista}\")\n",
        "  print(f\"La suma de los elementos de tu lista es: {multis}\")\n",
        "multi (cantidad)"
      ],
      "metadata": {
        "id": "3A6VcaJstd5q"
      },
      "execution_count": null,
      "outputs": []
    },
    {
      "cell_type": "code",
      "source": [
        "#Ejercicio 9\n",
        "frase=str(input(\"Dame una frase: \"))\n",
        "frase1=len(frase)\n",
        "frase2=frase[frase1::-1]\n",
        "print(f\"Tu frase es: {frase}\")\n",
        "print(f\"Tu frase al revés es: {frase2}\")"
      ],
      "metadata": {
        "id": "dxwSAuEItvSQ"
      },
      "execution_count": null,
      "outputs": []
    },
    {
      "cell_type": "code",
      "source": [
        "#Ejercicio 10\n",
        "num=int(input(\"Dame un número: \"))\n",
        "def facto (a):\n",
        " multi=1\n",
        " for i in range(0,num):\n",
        "   multi=multi*(i+1)\n",
        " print(f\"El factorial de {num} es: {multi}\")\n",
        "facto(num)"
      ],
      "metadata": {
        "id": "BAXSsM85vbed"
      },
      "execution_count": null,
      "outputs": []
    },
    {
      "cell_type": "code",
      "source": [
        "#Ejercicio 12\n",
        "def mayusminus(a):\n",
        "  P=0\n",
        "  p=0\n",
        "  for i in texto:\n",
        "    l=i\n",
        "    if l==l.lower():\n",
        "      p+=1\n",
        "    else:\n",
        "      P+=1\n",
        "  print(f\"Hay {P} mayúsculas\")\n",
        "  print(f\"Hay {p} minúsculas\")\n",
        "  \n",
        "texto=str(input(\"Ingrese una oración: \"))\n",
        "mayusminus(texto)"
      ],
      "metadata": {
        "id": "1Hl7ma286V48"
      },
      "execution_count": null,
      "outputs": []
    },
    {
      "cell_type": "code",
      "source": [
        "#Ejercicio 17\n",
        "def palindromo(pali):\n",
        "  pali=pali.upper()\n",
        "  if (pali) == (pali)[::-1] :\n",
        "    print(\"Es un palíndromo\")\n",
        "  else:\n",
        "    print(\"No es un palíndromo\")  \n",
        "palabra=str(input(\"Ingrese una palabra: \"))\n",
        "palindromo(palabra)"
      ],
      "metadata": {
        "id": "6QAnKqpg30Is"
      },
      "execution_count": null,
      "outputs": []
    }
  ]
}
{
  "nbformat": 4,
  "nbformat_minor": 0,
  "metadata": {
    "colab": {
      "provenance": [],
      "collapsed_sections": []
    },
    "kernelspec": {
      "name": "python3",
      "display_name": "Python 3"
    },
    "language_info": {
      "name": "python"
    }
  },
  "cells": [
    {
      "cell_type": "markdown",
      "source": [
        "LA LISTA POR COMPRENSION ES UNA CONSTRUCCION SINTACTICA DISPONIBLE EN PYTHON CON LA QUE SE PUEDEN CREAR LISTA A PARTIR DE OTROS ELEMENTOS ITERABLES. SIENDO UNA DE LAS CONTRACCIONES MÁS ELEGANTES DEL LENGUAJE. A CONTINUACIÓN SE MOSTRARÁ LA SINTAXTIS BASICA PARA TRABAJAR CON LISTAS POR COMPRENSION."
      ],
      "metadata": {
        "id": "vXm6n3mNnlIT"
      }
    },
    {
      "cell_type": "code",
      "execution_count": null,
      "metadata": {
        "id": "dNzt9rG7k659"
      },
      "outputs": [],
      "source": [
        "#Los tipos de datos mutables son todos aquellos a los que es posible cambiar; modificar o actualizar\n",
        "#Los objetos mutables más comunes son las listas, diccionarios y conjuntos que sirver para guardar\n",
        "\n",
        "#sintaxis listas por comprension\n",
        "\n",
        "nueva_lista=[expresoion bucle_for condiciones]\n",
        "#entre corchetes se escribe una expresión seguda de un bucle for sobre el que se itera"
      ]
    },
    {
      "cell_type": "code",
      "source": [
        "#EJEMPLO  \n",
        "\n",
        "numbers = [1, 2, 3, 4]\n",
        "results = []\n",
        "for n in numbers:\n",
        "  results.append(n + 1)\n",
        "\n",
        "results"
      ],
      "metadata": {
        "colab": {
          "base_uri": "https://localhost:8080/"
        },
        "id": "KQm_4U7ooo91",
        "outputId": "1390688b-0741-487f-c106-d685b9f3009c"
      },
      "execution_count": 1,
      "outputs": [
        {
          "output_type": "execute_result",
          "data": {
            "text/plain": [
              "[2, 3, 4, 5]"
            ]
          },
          "metadata": {},
          "execution_count": 1
        }
      ]
    },
    {
      "cell_type": "markdown",
      "source": [
        "**CONDICIONES LISTAS POR COMPRENSIÓN:**"
      ],
      "metadata": {
        "id": "Xa8yDnbepF8j"
      }
    },
    {
      "cell_type": "markdown",
      "source": [
        "ES POSIBLE AÑADIR CONDICIONES A LAS LISTAS POR COMPRENSIÓN EN PYTHON. PARA LO QUE SE TIENE QUE AGREGAR UN IF AL FINAL CON LA CONDICION"
      ],
      "metadata": {
        "id": "zwUrZG4RpMH0"
      }
    },
    {
      "cell_type": "code",
      "source": [
        "numbers = [1, 2, 3, 4]\n",
        "results = [n + 1 for n in numbers if n<5]\n",
        "results"
      ],
      "metadata": {
        "colab": {
          "base_uri": "https://localhost:8080/"
        },
        "id": "aPTa809_pXtA",
        "outputId": "4b20fa5b-635e-41da-e319-96c56d9ebcc8"
      },
      "execution_count": 2,
      "outputs": [
        {
          "output_type": "execute_result",
          "data": {
            "text/plain": [
              "[2, 3, 4, 5]"
            ]
          },
          "metadata": {},
          "execution_count": 2
        }
      ]
    },
    {
      "cell_type": "code",
      "source": [
        "results2= lambda numbers:results\n",
        "print(results2(numbers))"
      ],
      "metadata": {
        "colab": {
          "base_uri": "https://localhost:8080/"
        },
        "id": "b3Pa2Da7pmgQ",
        "outputId": "bcdbfe26-3ae9-4745-c8e4-3fdcb1f1ace2"
      },
      "execution_count": 3,
      "outputs": [
        {
          "output_type": "stream",
          "name": "stdout",
          "text": [
            "[2, 3, 4, 5]\n"
          ]
        }
      ]
    },
    {
      "cell_type": "code",
      "source": [
        "#numero perfecto \n",
        "def perfecto (numero):\n",
        "  perf=0\n",
        "  for i in range (1,numero):\n",
        "    if numero %i==0:\n",
        "      perf+=i\n",
        "  if perf ==numero:\n",
        "    print(\"es numero perfecto\")\n",
        "    return True\n",
        "  else:\n",
        "    print(\"no es numero perfecto\")\n",
        "numero=6\n",
        "perfecto (numero)"
      ],
      "metadata": {
        "colab": {
          "base_uri": "https://localhost:8080/"
        },
        "id": "z4EcoCv2p_IW",
        "outputId": "ee6ab932-203b-4e1f-b743-b0ccfc50ba0e"
      },
      "execution_count": 9,
      "outputs": [
        {
          "output_type": "stream",
          "name": "stdout",
          "text": [
            "es numero perfecto\n"
          ]
        },
        {
          "output_type": "execute_result",
          "data": {
            "text/plain": [
              "True"
            ]
          },
          "metadata": {},
          "execution_count": 9
        }
      ]
    },
    {
      "cell_type": "code",
      "source": [
        "def numeros():\n",
        " a=int(input(\"ingresa un numero\"))\n",
        " b=int(input(\"ingresa un numero\"))\n",
        " c=int(input(\"ingresa un numero\"))\n",
        " d=int(input(\"ingresa un numero\"))\n",
        " perfect=[a,b,c,d]\n",
        " perfect1=[elemento for elemento in perfect if perfecto(elemento)==True]\n",
        "numeros()"
      ],
      "metadata": {
        "colab": {
          "base_uri": "https://localhost:8080/"
        },
        "id": "_zGGwUS-qU6P",
        "outputId": "171badbb-8c15-4422-92ba-b33eae954391"
      },
      "execution_count": 10,
      "outputs": [
        {
          "output_type": "stream",
          "name": "stdout",
          "text": [
            "ingresa un numero1\n",
            "ingresa un numero2\n",
            "ingresa un numero3\n",
            "ingresa un numero6\n",
            "no es numero perfecto\n",
            "no es numero perfecto\n",
            "no es numero perfecto\n",
            "es numero perfecto\n"
          ]
        }
      ]
    },
    {
      "cell_type": "code",
      "source": [
        "lista=[2,3,6,4]\n",
        "#lambda y map\n",
        "perfect2=list(map(lambda elemento:perfecto(elemento)==True,lista))\n",
        "perfect2"
      ],
      "metadata": {
        "colab": {
          "base_uri": "https://localhost:8080/"
        },
        "id": "RiiTds1Sr13y",
        "outputId": "be74b7bc-a9e3-4b39-ebf6-dcee82c3a13d"
      },
      "execution_count": 11,
      "outputs": [
        {
          "output_type": "stream",
          "name": "stdout",
          "text": [
            "no es numero perfecto\n",
            "no es numero perfecto\n",
            "es numero perfecto\n",
            "no es numero perfecto\n"
          ]
        },
        {
          "output_type": "execute_result",
          "data": {
            "text/plain": [
              "[False, False, True, False]"
            ]
          },
          "metadata": {},
          "execution_count": 11
        }
      ]
    },
    {
      "cell_type": "code",
      "source": [
        "n=int(input(\"Hasta que numero quieres imprimir los pares e impares: \"))\n",
        "pares=[numero for numero in range(0,n+1) if numero%2==0]\n",
        "print(pares)\n",
        "impares=[numero for numero in range(0,n+1) if numero%2!=0]\n",
        "print(impares)\n"
      ],
      "metadata": {
        "colab": {
          "base_uri": "https://localhost:8080/"
        },
        "id": "tr5MnKPdsPov",
        "outputId": "a64cd3f5-ad43-496c-b441-7d17ce485de1"
      },
      "execution_count": 12,
      "outputs": [
        {
          "output_type": "stream",
          "name": "stdout",
          "text": [
            "Hasta que numero quieres imprimir los pares e impares: 5\n",
            "[0, 2, 4]\n",
            "[1, 3, 5]\n"
          ]
        }
      ]
    },
    {
      "cell_type": "code",
      "source": [
        "num=int(input(\"hasta que numero quieres imprimir los pares e impares: \"))\n",
        "def hola(n):\n",
        "  pares=[numero for numero in range(0,n+1) if numero%2==0]\n",
        "  print(pares)\n",
        "  impares=[numero for numero in range(0,n+1) if numero%2!=0]\n",
        "  print(impares)\n",
        "hola(num)"
      ],
      "metadata": {
        "colab": {
          "base_uri": "https://localhost:8080/"
        },
        "id": "WnkkZY6astPT",
        "outputId": "78631382-bb1d-4990-9913-2ba40aa328ca"
      },
      "execution_count": 13,
      "outputs": [
        {
          "output_type": "stream",
          "name": "stdout",
          "text": [
            "hasta que numero quieres imprimir los pares e impares: 5\n",
            "[0, 2, 4]\n",
            "[1, 3, 5]\n"
          ]
        }
      ]
    },
    {
      "cell_type": "code",
      "source": [
        "num=int(input(\"hasta que numero numero quieres imprimir los pares e impares: \"))\n",
        "mi_lista=[n for n in range(0,num+1)]\n",
        "impares=list(filter(lambda num:num%2==0,mi_lista))\n",
        "print(impares)\n",
        "pares=list(filter(lambda num:num%2!=0,mi_lista))\n",
        "print(pares)"
      ],
      "metadata": {
        "colab": {
          "base_uri": "https://localhost:8080/"
        },
        "id": "u3_LPcKctDpC",
        "outputId": "35cf305a-b239-4e18-c295-38648c2e19f8"
      },
      "execution_count": 14,
      "outputs": [
        {
          "output_type": "stream",
          "name": "stdout",
          "text": [
            "hasta que numero numero quieres imprimir los pares e impares: 5\n",
            "[0, 2, 4]\n",
            "[1, 3, 5]\n"
          ]
        }
      ]
    }
  ]
}
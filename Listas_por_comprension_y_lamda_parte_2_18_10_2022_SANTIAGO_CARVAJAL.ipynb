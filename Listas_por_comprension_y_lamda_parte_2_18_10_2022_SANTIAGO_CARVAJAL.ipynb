{
  "nbformat": 4,
  "nbformat_minor": 0,
  "metadata": {
    "colab": {
      "provenance": []
    },
    "kernelspec": {
      "name": "python3",
      "display_name": "Python 3"
    },
    "language_info": {
      "name": "python"
    }
  },
  "cells": [
    {
      "cell_type": "code",
      "execution_count": 10,
      "metadata": {
        "colab": {
          "base_uri": "https://localhost:8080/"
        },
        "id": "mYYbUZR8mxRJ",
        "outputId": "d5674c99-72c3-4fd3-bd95-ca0a9acb8027"
      },
      "outputs": [
        {
          "output_type": "stream",
          "name": "stdout",
          "text": [
            "[1593, 576, 1201, 1513]\n"
          ]
        }
      ],
      "source": [
        "##METODO CLASICO  BY JUANDIVOX\n",
        "import random\n",
        "numero1= [random.randint(0,2000)for x in range(100)]\n",
        "numero2= [random.randint(0,2000)for x in range(100)]\n",
        "comun=[]\n",
        "for a in numero1:\n",
        "  for b in numero2:\n",
        "    if a == b:\n",
        "      comun.append(a)\n",
        "print(comun)"
      ]
    },
    {
      "cell_type": "code",
      "source": [
        "##lambda y filter by juandivox \n",
        "import random\n",
        "numero1= [random.randint(0,2000)for x in range(100)]\n",
        "numero2= [random.randint(0,2000)for x in range(100)]\n",
        "comun=[]\n",
        "comun=list(filter(lambda num:num in numero1,numero2))\n",
        "print(comun)"
      ],
      "metadata": {
        "colab": {
          "base_uri": "https://localhost:8080/"
        },
        "id": "TWygukE8q8Y6",
        "outputId": "5d820c7e-3963-4887-8c19-6359bb6dbf3a"
      },
      "execution_count": 11,
      "outputs": [
        {
          "output_type": "stream",
          "name": "stdout",
          "text": [
            "[1330, 185, 33, 1882, 581]\n"
          ]
        }
      ]
    },
    {
      "cell_type": "code",
      "source": [
        "## metodo comprensión by juandivox\n",
        "import random\n",
        "numero1= [random.randint(0,2000)for x in range(100)]\n",
        "numero2= [random.randint(0,2000)for x in range(100)]\n",
        "comun=[x for x in numero1 for y in numero2 if x==y]\n",
        "print(comun)"
      ],
      "metadata": {
        "colab": {
          "base_uri": "https://localhost:8080/"
        },
        "id": "4T5L84jOrp0g",
        "outputId": "944cd1e4-9973-45df-a305-538b66c32de0"
      },
      "execution_count": 12,
      "outputs": [
        {
          "output_type": "stream",
          "name": "stdout",
          "text": [
            "[946, 1292, 53, 1991, 1032]\n"
          ]
        }
      ]
    },
    {
      "cell_type": "code",
      "source": [
        "#lambda\n",
        "lambda_func = lambda x: x**2 \n",
        "lambda_func(3)"
      ],
      "metadata": {
        "colab": {
          "base_uri": "https://localhost:8080/"
        },
        "id": "OHxyWEpQtW0_",
        "outputId": "3e7aa5f9-d53f-43a3-e22e-a76ce1324b67"
      },
      "execution_count": 13,
      "outputs": [
        {
          "output_type": "execute_result",
          "data": {
            "text/plain": [
              "9"
            ]
          },
          "metadata": {},
          "execution_count": 13
        }
      ]
    },
    {
      "cell_type": "code",
      "source": [
        "#tradicional\n",
        "def square1(num):\n",
        "  return num**2\n",
        "print(square1(5))"
      ],
      "metadata": {
        "colab": {
          "base_uri": "https://localhost:8080/"
        },
        "id": "oP_n20FNtrhH",
        "outputId": "3f031618-99d0-420a-e38a-c40ba47d8c9b"
      },
      "execution_count": 15,
      "outputs": [
        {
          "output_type": "stream",
          "name": "stdout",
          "text": [
            "25\n"
          ]
        }
      ]
    },
    {
      "cell_type": "code",
      "source": [
        "#comprensión\n",
        "L = [1,2,3,4]\n",
        "L2 = [n**2 for n in L]\n",
        "print(L2)"
      ],
      "metadata": {
        "colab": {
          "base_uri": "https://localhost:8080/"
        },
        "id": "CuoI8kVIt3bO",
        "outputId": "7fe944b4-dfcb-44c5-cb92-1a23abb23212"
      },
      "execution_count": 14,
      "outputs": [
        {
          "output_type": "stream",
          "name": "stdout",
          "text": [
            "[1, 4, 9, 16]\n"
          ]
        }
      ]
    },
    {
      "cell_type": "code",
      "source": [
        "#Por comprension\n",
        "nom1 = [\"Samuelle\", \"Angie\", \"Valentina\", \"Alejandro\", \"Jonsito\"]\n",
        "nom2 = [\"Samuelle\", \"Andrea\", \"Sandra\", \"Anderson\", \"Jonsito\"]\n",
        "common={a for a in nom1 for b in nom2 if a == b}\n",
        "common\n"
      ],
      "metadata": {
        "colab": {
          "base_uri": "https://localhost:8080/"
        },
        "id": "_9h4giZouJq2",
        "outputId": "fd250b56-3333-407e-e400-f20b6c77411c"
      },
      "execution_count": 22,
      "outputs": [
        {
          "output_type": "execute_result",
          "data": {
            "text/plain": [
              "{'Jonsito', 'Samuelle'}"
            ]
          },
          "metadata": {},
          "execution_count": 22
        }
      ]
    },
    {
      "cell_type": "code",
      "source": [
        "nom1 = [\"Samuelle\", \"Angie\", \"Valentina\", \"Alejandro\", \"Jonsito\"]\n",
        "nom2 = [\"Samuelle\", \"Andrea\", \"Sandra\", \"Anderson\", \"Jonsito\"]\n",
        "common1=lambda nom1,nom2:common\n",
        "print(common1(nom1,nom2))\n"
      ],
      "metadata": {
        "colab": {
          "base_uri": "https://localhost:8080/"
        },
        "id": "B5Hl8K1RvjUu",
        "outputId": "59d03066-43a6-4211-c06d-16d809f1e922"
      },
      "execution_count": 23,
      "outputs": [
        {
          "output_type": "stream",
          "name": "stdout",
          "text": [
            "{'Jonsito', 'Samuelle'}\n"
          ]
        }
      ]
    },
    {
      "cell_type": "code",
      "source": [
        "nom1 = [\"Samuelle\", \"Angie\", \"Valentina\", \"Alejandro\", \"Jonsito\"]\n",
        "nom2 = [\"Samuelle\", \"Andrea\", \"Sandra\", \"Anderson\", \"Jonsito\"]\n",
        "def common(nom1,nom2):\n",
        "    return nom1,nom2\n",
        "nom1,nom2"
      ],
      "metadata": {
        "colab": {
          "base_uri": "https://localhost:8080/"
        },
        "id": "moayFXEOvvkm",
        "outputId": "27ecb950-d547-4798-c483-32aaf6009125"
      },
      "execution_count": 26,
      "outputs": [
        {
          "output_type": "execute_result",
          "data": {
            "text/plain": [
              "(['Samuelle', 'Angie', 'Valentina', 'Alejandro', 'Jonsito'],\n",
              " ['Samuelle', 'Andrea', 'Sandra', 'Anderson', 'Jonsito'])"
            ]
          },
          "metadata": {},
          "execution_count": 26
        }
      ]
    },
    {
      "cell_type": "code",
      "source": [
        "#Tradicional \n",
        "def listaIMC(usuarios):\n",
        "  sis = []\n",
        "  imc = []\n",
        "  b = 0 \n",
        "  a2 = 0\n",
        "  for n in range (usuarios):\n",
        "    w=input(\"Cuál es tu nombre? \")\n",
        "    b=int(input(\"ingresa el peso \"))\n",
        "    a2=int(input(\"ingresa la altura \"))\n",
        "    sis.append((w,b/a2**2))\n",
        "    imc.append(b/a2**2)\n",
        "  return sis,imc\n",
        "user=int(input(\"¿Cuántos usuarios hay? \"))\n",
        "\n",
        "sis,imc=listaIMC(user)"
      ],
      "metadata": {
        "colab": {
          "base_uri": "https://localhost:8080/"
        },
        "id": "hIjxAH-AxCi1",
        "outputId": "052168b5-44df-4f38-9e88-dbc736dd1eab"
      },
      "execution_count": 33,
      "outputs": [
        {
          "name": "stdout",
          "output_type": "stream",
          "text": [
            "¿Cuántos usuarios hay? 1\n",
            "Cuál es tu nombre? 5\n",
            "ingresa el peso 2\n",
            "ingresa la altura 54\n"
          ]
        }
      ]
    },
    {
      "cell_type": "code",
      "source": [
        "##comprensión\n",
        "sis=listaIMC(user)\n",
        "sis2=[n for n in imc if n>= 18.5]\n",
        "print(sis2)"
      ],
      "metadata": {
        "colab": {
          "base_uri": "https://localhost:8080/"
        },
        "id": "3aFiCL43yiBE",
        "outputId": "62ed6b48-401e-4726-e092-8acae363ee68"
      },
      "execution_count": 35,
      "outputs": [
        {
          "output_type": "stream",
          "name": "stdout",
          "text": [
            "Cuál es tu nombre? 5\n",
            "ingresa el peso 5\n",
            "ingresa la altura 2\n",
            "[]\n"
          ]
        }
      ]
    },
    {
      "cell_type": "code",
      "source": [
        "#lambda\n",
        "sis3=list(map(lambda x: \"peso insuficiente\" if x<18.5 else \"peso normal\" if (x>=18.5 and x>24.9) else \"sobrepeso\" if (x>=24.9 and x<30)else \"obesisdad\",imc))\n",
        "sis3\n"
      ],
      "metadata": {
        "colab": {
          "base_uri": "https://localhost:8080/"
        },
        "id": "1XaCUiTK2LVj",
        "outputId": "02a520e2-25a3-4911-bc61-e4f02570467e"
      },
      "execution_count": 37,
      "outputs": [
        {
          "output_type": "execute_result",
          "data": {
            "text/plain": [
              "['peso insuficiente']"
            ]
          },
          "metadata": {},
          "execution_count": 37
        }
      ]
    }
  ]
}
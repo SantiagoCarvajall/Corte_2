{
  "nbformat": 4,
  "nbformat_minor": 0,
  "metadata": {
    "colab": {
      "provenance": [],
      "authorship_tag": "ABX9TyNym3+Nw0V3iSZNkR75Bmwv",
      "include_colab_link": true
    },
    "kernelspec": {
      "name": "python3",
      "display_name": "Python 3"
    },
    "language_info": {
      "name": "python"
    }
  },
  "cells": [
    {
      "cell_type": "markdown",
      "metadata": {
        "id": "view-in-github",
        "colab_type": "text"
      },
      "source": [
        "<a href=\"https://colab.research.google.com/github/GALINDO1/2.0PROGCOM-B/blob/main/Clase_de_objetos.ipynb\" target=\"_parent\"><img src=\"https://colab.research.google.com/assets/colab-badge.svg\" alt=\"Open In Colab\"/></a>"
      ]
    },
    {
      "cell_type": "code",
      "execution_count": null,
      "metadata": {
        "id": "EvNDO2zfklc9"
      },
      "outputs": [],
      "source": [
        "class Fraccion:\n",
        "  def __init__(self,num,den,pot):\n",
        "    self.num=num\n",
        "    self.den=den\n",
        "    self.pot=pot\n",
        "  \n",
        "  \n",
        "  def potencia(self):\n",
        "    num=self.num**self.pot\n",
        "    den=self.den**self.pot\n",
        "    pot=self.pot\n",
        "    c=Fraccion(num,den,pot)\n",
        "    print(f'{c.num}/{c.den}')\n",
        "    return c\n",
        "  def suma(self,s):\n",
        "    if self.den==0 or s.den==0:\n",
        "      print(\"No se puede\")\n",
        "    else:\n",
        "      if self.den!=s.den:\n",
        "        num=(self.num*s.den)+(self.den*s.num)\n",
        "        den=self.den*s.den\n",
        "      else\n",
        "      num=(self.num*s.den)+(self.den*s.num)\n",
        "      den=self.den\n",
        "      f=Fraccion(num,den,1)\n",
        "      print(f'{f.num}/{f.den}')\n",
        "      return f\n",
        "---\n",
        "   def resta(self,s):\n",
        "    if self.den==0 or s.den==0:\n",
        "      print(\"No se puede\")\n",
        "    else:\n",
        "      if self.den!=s.den:\n",
        "        num=(self.num*s.den)-(self.den*s.num)\n",
        "        den=self.den*s.den\n",
        "      else\n",
        "      num=(self.num*s.den)-(self.den*s.num)\n",
        "      den=self.den\n",
        "      f=Fraccion(num,den,1)\n",
        "      print(f'{f.num}/{f.den}')\n",
        "      return f\n",
        "def div(self,c):\n",
        "  num=self.num*c.den\n",
        "  den=self.den*c.num\n",
        "  frac=Fraccion(num,den,1)\n",
        "  return f'{frac.num}/{grac.den}'"
      ]
    },
    {
      "cell_type": "code",
      "source": [
        "s=Fraccion(2,5,8)\n"
      ],
      "metadata": {
        "id": "T3zHtL5U7YW0"
      },
      "execution_count": null,
      "outputs": []
    },
    {
      "cell_type": "code",
      "source": [
        "s.__dict__"
      ],
      "metadata": {
        "id": "2XF6xMKI7aRB"
      },
      "execution_count": null,
      "outputs": []
    },
    {
      "cell_type": "code",
      "source": [
        "s.potencia()"
      ],
      "metadata": {
        "id": "GT_IhE2Y7cFy"
      },
      "execution_count": null,
      "outputs": []
    },
    {
      "cell_type": "code",
      "source": [
        "yo=t.resta(s)"
      ],
      "metadata": {
        "id": "ec7VBTiY7duF"
      },
      "execution_count": null,
      "outputs": []
    },
    {
      "cell_type": "code",
      "source": [
        "t.suma(s)"
      ],
      "metadata": {
        "id": "m1cOm91e7f_U"
      },
      "execution_count": null,
      "outputs": []
    },
    {
      "cell_type": "code",
      "source": [
        "t.prdoducto"
      ],
      "metadata": {
        "id": "1dM8p19g7hsc"
      },
      "execution_count": null,
      "outputs": []
    },
    {
      "cell_type": "code",
      "source": [
        "a=t.div(s)"
      ],
      "metadata": {
        "id": "RBHppYQ57j98"
      },
      "execution_count": null,
      "outputs": []
    },
    {
      "cell_type": "code",
      "source": [
        "print(a)"
      ],
      "metadata": {
        "id": "4q6k42ZG7mC8"
      },
      "execution_count": null,
      "outputs": []
    },
    {
      "cell_type": "code",
      "source": [
        "def potencia(self):\n",
        "  if self.pot==0:\n",
        "    num=1\n",
        "    den=1\n",
        "  elif self.pot<0:\n",
        "    self.num,self.den=self.potencia\n",
        "    num=self.num**self.pot\n",
        "    den=self.num**self.pot\n",
        "  else:\n",
        "    num=self.num**self.pot\n",
        "    den=self.num**self.pot\n",
        "    pot=self.pot\n",
        "    c=fraccion(num,den,pot)\n",
        "    print(f'{c,num}/{c,den}')\n",
        "    return c\n",
        "  def suma(self,s):\n",
        "    if self.den==0 or s.den==0:\n",
        "      print(\"No se puede dividir entre 0\")\n",
        "    else:\n",
        "      if self.den!=s.den:\n",
        "       num=(self.num*s.den)+(self.den*s.num)\n",
        "       den=self.den*s.den\n",
        "      else:\n",
        "        num=(self.num*s.den)+(self.dem*s.num)\n",
        "        den=self.den\n",
        "      f=fraccion(num,den,1)\n",
        "      print(f\"{f.num}/{f.den}\")\n"
      ],
      "metadata": {
        "id": "Mf07KhJ-w_fI"
      },
      "execution_count": 10,
      "outputs": []
    }
  ]
}
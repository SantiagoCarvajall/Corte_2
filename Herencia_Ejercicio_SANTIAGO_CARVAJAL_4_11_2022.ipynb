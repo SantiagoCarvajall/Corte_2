{
  "nbformat": 4,
  "nbformat_minor": 0,
  "metadata": {
    "colab": {
      "provenance": []
    },
    "kernelspec": {
      "name": "python3",
      "display_name": "Python 3"
    },
    "language_info": {
      "name": "python"
    }
  },
  "cells": [
    {
      "cell_type": "code",
      "execution_count": null,
      "metadata": {
        "id": "_YkccIg1Td5Z"
      },
      "outputs": [],
      "source": [
        "class Saiyajin():\n",
        "  def __init__(self,nombre,ccabello,cojos,cola_mono,estatura):\n",
        "    self.nombre=nombre\n",
        "    self._ccabello=\"negro\"\n",
        "    self.cojos=\"negro\"\n",
        "    self._cola_mono=True\n",
        "    self.estatura=estatura\n",
        "  def cambio_color(self,putisteria):\n",
        "    if putisteria>=4000 and putisteria<100000:\n",
        "      self.ccabello=\"rubio\"\n",
        "      self.cojos=\"aguamarina\"\n",
        "    elif putisteria>=1000000 and putisteria<200000:\n",
        "      self.ccabello=\"rojo\"\n",
        "      self.cojos=\"rosita\"\n",
        "    elif putisteria>=2000000 and putisteria<500000:\n",
        "      self.ccabello=\"blue\"\n",
        "      self.cojos=\"azul azul\"\n",
        "    elif putisteria>=2000000 and putisteria<500000:\n",
        "      self.ccabello=\"cenizo\"\n",
        "      self.cojos=\"plateado\"\n",
        "    else:\n",
        "      self.ccabello=\"negro\"\n",
        "      self.cojos=\"negro\"\n",
        "  def trabajo (self,t):\n",
        "    if t==1: print(self.nombre, \"es guerrero.\")\n",
        "    elif t==2: print(f\"{self.nombre,} es liendra de freezer.\")\n",
        "    elif t==3: print(f\"{self.nombre}, es mercenario.\")\n",
        "    elif t==4: print(f\"{self.nombre}, es de la realeza.\")\n",
        "    else: print(f\"{self.nombre}, es Nini xD\")"
      ]
    },
    {
      "cell_type": "code",
      "source": [
        "class Humanos():\n",
        "  def __init__(self,nombre,ccabello,cojos,estatura):\n",
        "    self.nombre=nombre\n",
        "    self._ccabello=\"negro\"\n",
        "    self.cojos=\"negro\"\n",
        "    self.estatura=estatura\n",
        "  def cambio_color(self,putisteria):\n",
        "    if putisteria>=4000 and putisteria<100000:\n",
        "      self.ccabello=\"rubio\"\n",
        "      self.cojos=\"aguamarina\"\n",
        "    elif putisteria>=1000000 and putisteria<200000:\n",
        "      self.ccabello=\"rojo\"\n",
        "      self.cojos=\"rosita\"\n",
        "    elif putisteria>=2000000 and putisteria<500000:\n",
        "      self.ccabello=\"blue\"\n",
        "      self.cojos=\"azul azul\"\n",
        "    elif putisteria>=2000000 and putisteria<500000:\n",
        "      self.ccabello=\"cenizo\"\n",
        "      self.cojos=\"plateado\"\n",
        "    else:\n",
        "      self.ccabello=\"negro\"\n",
        "      self.cojos=\"negro\"\n",
        "  def trabajo (self,t):\n",
        "    if t==1: print(self.nombre, \"es periodista.\")\n",
        "    elif t==2: print(f\"{self.nombre,} es político.\")\n",
        "    elif t==3: print(f\"{self.nombre} es de la patrulla roja.\")\n",
        "    elif t==4: print(f\"{self.nombre} trabaja en capsule corps.\")\n",
        "    elif t==5: print(f\"{self.nombre} es policía.\")\n",
        "    elif t==6: print(f\"{self.nombre} es granjero.\")\n",
        "    else: print(f\"{self.nombre}, es Nini xD\")"
      ],
      "metadata": {
        "id": "UfiHhPbPbCco"
      },
      "execution_count": null,
      "outputs": []
    },
    {
      "cell_type": "code",
      "source": [
        "saya1=Saiyajin(\"Jhonsito\",\"Aguamarina\",\"Arcoiris\",False,180)\n",
        "saya1.cambio_color(10000000)"
      ],
      "metadata": {
        "id": "tzRabPtgb8gm"
      },
      "execution_count": null,
      "outputs": []
    },
    {
      "cell_type": "code",
      "source": [
        "saya1.__dict__"
      ],
      "metadata": {
        "colab": {
          "base_uri": "https://localhost:8080/"
        },
        "id": "uA5siStvVDDe",
        "outputId": "62ad552c-aa8d-497b-eb1c-01b48587909f"
      },
      "execution_count": null,
      "outputs": [
        {
          "output_type": "execute_result",
          "data": {
            "text/plain": [
              "{'nombre': 'Jhonsito',\n",
              " '_ccabello': 'negro',\n",
              " 'cojos': 'negro',\n",
              " '_cola_mono': True,\n",
              " 'estatura': 180,\n",
              " 'ccabello': 'negro'}"
            ]
          },
          "metadata": {},
          "execution_count": 124
        }
      ]
    },
    {
      "cell_type": "code",
      "source": [
        "class Hibrido (Saiyajin,Humanos):\n",
        " def cambio_color(self,putisteria):\n",
        "   super().cambio_color(putisteria)\n",
        "   if putisteria>=10000000000 and putisteria<10000000000000000:\n",
        "      self.ccabello=\"blanco\"\n",
        "      self.cojos=\"rojo\"   \n",
        "      print (f\"{self.nombre} puede ser una bestia re loco.\")"
      ],
      "metadata": {
        "id": "J16a4dtGdwt9"
      },
      "execution_count": null,
      "outputs": []
    },
    {
      "cell_type": "code",
      "source": [
        "class Perros():\n",
        "  def ladrar(self):\n",
        "    print(\"GUAUU GUAUU\")\n",
        "  def grunir(self):\n",
        "    print(\"GRRRRR GRRRR\")"
      ],
      "metadata": {
        "id": "ltpFzzpgg9sg"
      },
      "execution_count": null,
      "outputs": []
    },
    {
      "cell_type": "code",
      "source": [
        "class Caniches(Perros):\n",
        "  def ladrar(self):\n",
        "    print(\"GUAUU GUAUU GUAUU GUAUUU\")\n",
        "  def grunir(self):\n",
        "    print(\"gñiii gñiiii\")"
      ],
      "metadata": {
        "id": "aqJBeiRzhLYW"
      },
      "execution_count": null,
      "outputs": []
    },
    {
      "cell_type": "code",
      "source": [
        "class Pastor_Aleman(Perros):\n",
        "  def ladrar(self):\n",
        "    print(\"GUAUU SERIO\")\n",
        "  def grunir(self):\n",
        "    print(\"Agrrrgrrrff Agrrrgrrrf\")"
      ],
      "metadata": {
        "id": "ipnhSNnEhcL9"
      },
      "execution_count": null,
      "outputs": []
    },
    {
      "cell_type": "code",
      "source": [
        "class Shepadoodle(Caniches,Pastor_Aleman):\n",
        "  def xladrar(self,veces):\n",
        "    for cuantas in range(veces):\n",
        "      super(Shepadoodle,self).ladrar()"
      ],
      "metadata": {
        "id": "tdbyASQZhz19"
      },
      "execution_count": null,
      "outputs": []
    },
    {
      "cell_type": "code",
      "source": [
        "Patacon=Pastor_Aleman()\n",
        "lulu=Caniches()\n",
        "milu=Shepadoodle()\n",
        "milu.xladrar(2)"
      ],
      "metadata": {
        "colab": {
          "base_uri": "https://localhost:8080/"
        },
        "id": "ksDj8O-fijBy",
        "outputId": "ef8dd6e5-f86c-4d69-b761-a42e67a0543a"
      },
      "execution_count": null,
      "outputs": [
        {
          "output_type": "stream",
          "name": "stdout",
          "text": [
            "GUAUU SERIO\n",
            "GUAUU SERIO\n"
          ]
        }
      ]
    },
    {
      "cell_type": "code",
      "source": [
        "class Asignar(list):\n",
        "  pass"
      ],
      "metadata": {
        "id": "ExZBMMJ-kqY4"
      },
      "execution_count": null,
      "outputs": []
    },
    {
      "cell_type": "code",
      "source": [
        "a=Asignar()"
      ],
      "metadata": {
        "id": "y6DSvpwnkqc3"
      },
      "execution_count": null,
      "outputs": []
    },
    {
      "cell_type": "code",
      "source": [
        "a.append(4)"
      ],
      "metadata": {
        "id": "_f5uPKHokqfX"
      },
      "execution_count": null,
      "outputs": []
    },
    {
      "cell_type": "code",
      "source": [
        "a"
      ],
      "metadata": {
        "colab": {
          "base_uri": "https://localhost:8080/"
        },
        "id": "zGTW81yQkqhv",
        "outputId": "dfdc72d3-2d1f-4063-caa7-fc02f47c63b4"
      },
      "execution_count": null,
      "outputs": [
        {
          "output_type": "execute_result",
          "data": {
            "text/plain": [
              "[4]"
            ]
          },
          "metadata": {},
          "execution_count": 99
        }
      ]
    },
    {
      "cell_type": "code",
      "source": [
        "class Padre():\n",
        "  def __init__(self,ojos,cejas):\n",
        "    self.ojos=ojos\n",
        "    self.cejas=cejas\n",
        "class Hijo(Padre):\n",
        "  def __init__(self,ojos,cejas,cara):\n",
        "    self.ojos=ojos\n",
        "    self.cejas=cejas\n",
        "    self.cara=cara"
      ],
      "metadata": {
        "id": "ROBKKG_6lDOc"
      },
      "execution_count": 6,
      "outputs": []
    },
    {
      "cell_type": "code",
      "source": [
        "Gabriel=Padre(\"Rojo\",\"Miel\")\n",
        "Albedo=Hijo(\"Castaño\",\"Azul\",\"Corta\")\n",
        "print(Albedo.ojos,Albedo.cejas,Albedo.cara)"
      ],
      "metadata": {
        "colab": {
          "base_uri": "https://localhost:8080/"
        },
        "id": "dVtdavKPlDF1",
        "outputId": "490f0317-ffc1-4201-e016-df284ecd72a6"
      },
      "execution_count": 8,
      "outputs": [
        {
          "output_type": "stream",
          "name": "stdout",
          "text": [
            "Castaño Azul Corta\n"
          ]
        }
      ]
    },
    {
      "cell_type": "code",
      "source": [
        "class Abuelo():\n",
        "  def __init__(self,ojos,cejas):\n",
        "    self.ojos=ojos\n",
        "    self.cejas=cejas\n",
        "class Hijo2(Abuelo):\n",
        "  def __init__(self,ojos,cejas,cara):\n",
        "    super().__init__(ojos,cejas)\n",
        "    self.cara=cara"
      ],
      "metadata": {
        "id": "qstuKnvmmFNF"
      },
      "execution_count": 10,
      "outputs": []
    },
    {
      "cell_type": "code",
      "source": [
        "Edgar=Abuelo(\"Negro\",\"Azul\")\n",
        "Ernesto=Hijo2(\"Azul\",\"Morados\",\"flaca\")"
      ],
      "metadata": {
        "id": "iLhohdACmgFk",
        "colab": {
          "base_uri": "https://localhost:8080/",
          "height": 183
        },
        "outputId": "b2945013-9e30-4447-94d0-30472866f31d"
      },
      "execution_count": 16,
      "outputs": [
        {
          "output_type": "error",
          "ename": "TypeError",
          "evalue": "ignored",
          "traceback": [
            "\u001b[0;31m---------------------------------------------------------------------------\u001b[0m",
            "\u001b[0;31mTypeError\u001b[0m                                 Traceback (most recent call last)",
            "\u001b[0;32m<ipython-input-16-f4fac6741761>\u001b[0m in \u001b[0;36m<module>\u001b[0;34m\u001b[0m\n\u001b[0;32m----> 1\u001b[0;31m \u001b[0mEdgar\u001b[0m\u001b[0;34m=\u001b[0m\u001b[0mAbuelo\u001b[0m\u001b[0;34m(\u001b[0m\u001b[0;34m\"Negro\"\u001b[0m\u001b[0;34m,\u001b[0m\u001b[0;34m\"Azul\"\u001b[0m\u001b[0;34m)\u001b[0m\u001b[0;34m\u001b[0m\u001b[0;34m\u001b[0m\u001b[0m\n\u001b[0m\u001b[1;32m      2\u001b[0m \u001b[0mErnesto\u001b[0m\u001b[0;34m=\u001b[0m\u001b[0mHijo2\u001b[0m\u001b[0;34m(\u001b[0m\u001b[0;34m\"Azul\"\u001b[0m\u001b[0;34m,\u001b[0m\u001b[0;34m\"Morados\"\u001b[0m\u001b[0;34m,\u001b[0m\u001b[0;34m\"flaca\"\u001b[0m\u001b[0;34m)\u001b[0m\u001b[0;34m\u001b[0m\u001b[0;34m\u001b[0m\u001b[0m\n",
            "\u001b[0;31mTypeError\u001b[0m: 'Abuelo' object is not callable"
          ]
        }
      ]
    }
  ]
}
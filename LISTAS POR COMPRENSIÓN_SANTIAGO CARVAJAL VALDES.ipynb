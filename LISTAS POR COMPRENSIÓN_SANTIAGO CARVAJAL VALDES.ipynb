{
  "nbformat": 4,
  "nbformat_minor": 0,
  "metadata": {
    "colab": {
      "provenance": []
    },
    "kernelspec": {
      "name": "python3",
      "display_name": "Python 3"
    },
    "language_info": {
      "name": "python"
    }
  },
  "cells": [
    {
      "cell_type": "markdown",
      "source": [
        "#Listas por comprensión\n",
        "\n",
        "Explicación\n",
        "\n",
        "\n"
      ],
      "metadata": {
        "id": "Lf4vG7zWl5zy"
      }
    },
    {
      "cell_type": "code",
      "source": [
        "#Samuelle\n",
        "numbers = [1, 2, 3, 4]\n",
        "results = []\n",
        "for n in numbers:\n",
        "  results.append(n+1)\n",
        "results"
      ],
      "metadata": {
        "colab": {
          "base_uri": "https://localhost:8080/"
        },
        "id": "zyd6zczSsKy4",
        "outputId": "56cc1804-d042-440e-a173-b35fa8c6f426"
      },
      "execution_count": null,
      "outputs": [
        {
          "output_type": "execute_result",
          "data": {
            "text/plain": [
              "[2, 3, 4, 5]"
            ]
          },
          "metadata": {},
          "execution_count": 16
        }
      ]
    },
    {
      "cell_type": "code",
      "source": [
        "#Samuelle\n",
        "numbers = [1, 2, 3, 4]\n",
        "results = [n + 1 for n in numbers if n < 5]\n",
        "results"
      ],
      "metadata": {
        "colab": {
          "base_uri": "https://localhost:8080/"
        },
        "id": "SfIre4FOsZu2",
        "outputId": "be8da7c8-8fef-4313-aa7d-b73259c34fea"
      },
      "execution_count": null,
      "outputs": [
        {
          "output_type": "execute_result",
          "data": {
            "text/plain": [
              "[2, 3, 4, 5]"
            ]
          },
          "metadata": {},
          "execution_count": 15
        }
      ]
    },
    {
      "cell_type": "code",
      "source": [
        "#Samuelle\n",
        "results2 = lambda numbers : results\n",
        "print(results2(numbers))"
      ],
      "metadata": {
        "id": "NYgmtdphss6O",
        "outputId": "81c72d5c-284c-484e-fc63-b1c7111bd226",
        "colab": {
          "base_uri": "https://localhost:8080/"
        }
      },
      "execution_count": null,
      "outputs": [
        {
          "output_type": "stream",
          "name": "stdout",
          "text": [
            "[2, 3, 4, 5]\n"
          ]
        }
      ]
    },
    {
      "cell_type": "code",
      "source": [
        "#Jesus\n",
        "n=int(input(\"Hasta que número quieres imprimir los pares e impares: \"))\n",
        "pares=[número for número in range(0,n+1) if número%2==0]\n",
        "print(pares)\n",
        "impares=[número for número in range(0,n+1) if número%2!=0]\n",
        "print(impares)"
      ],
      "metadata": {
        "id": "XTQqJo_vmCnA",
        "colab": {
          "base_uri": "https://localhost:8080/"
        },
        "outputId": "291b1078-0f53-4e8b-a43a-92fed304168e"
      },
      "execution_count": null,
      "outputs": [
        {
          "output_type": "stream",
          "name": "stdout",
          "text": [
            "Hasta que número quieres imprimir los pares e impares: 20\n",
            "[0, 2, 4, 6, 8, 10, 12, 14, 16, 18, 20]\n",
            "[1, 3, 5, 7, 9, 11, 13, 15, 17, 19]\n"
          ]
        }
      ]
    },
    {
      "cell_type": "code",
      "source": [
        "#Jesus\n",
        "num=int(input(\"Hasta que número quieres imprimir los pares e impares: \"))\n",
        "def hola(n): \n",
        " pares=[número for número in range(0,n+1) if número%2==0]\n",
        " print(pares)\n",
        " impares=[número for número in range(0,n+1) if número%2!=0]\n",
        " print(impares)\n",
        "hola(num)"
      ],
      "metadata": {
        "id": "8o8uLBElmguo",
        "colab": {
          "base_uri": "https://localhost:8080/"
        },
        "outputId": "6b35fe38-f674-4816-c90c-68958375a248"
      },
      "execution_count": null,
      "outputs": [
        {
          "output_type": "stream",
          "name": "stdout",
          "text": [
            "Hasta que número quieres imprimir los pares e impares: 20\n",
            "[0, 2, 4, 6, 8, 10, 12, 14, 16, 18, 20]\n",
            "[1, 3, 5, 7, 9, 11, 13, 15, 17, 19]\n"
          ]
        }
      ]
    },
    {
      "cell_type": "code",
      "source": [
        "#Jesus\n",
        "num=int(input(\"Hasta que número quieres imprimir los pares e impares: \"))\n",
        "mi_lista=[n for n in range(0,num+1)]\n",
        "pares=list(filter(lambda num: num%2==0,mi_lista))\n",
        "print(pares)\n",
        "impares=list(filter(lambda num: num%2!=0,mi_lista))\n",
        "print(impares)"
      ],
      "metadata": {
        "id": "3YAkrFrSmpVm",
        "colab": {
          "base_uri": "https://localhost:8080/"
        },
        "outputId": "4671dd65-6a91-4221-f5e6-6128087343eb"
      },
      "execution_count": null,
      "outputs": [
        {
          "output_type": "stream",
          "name": "stdout",
          "text": [
            "Hasta que número quieres imprimir los pares e impares: 20\n",
            "[0, 2, 4, 6, 8, 10, 12, 14, 16, 18, 20]\n",
            "[1, 3, 5, 7, 9, 11, 13, 15, 17, 19]\n"
          ]
        }
      ]
    },
    {
      "cell_type": "code",
      "source": [
        "#Jhon\n",
        "def perfecto(numero):\n",
        "  perf=0\n",
        "  for i in range(1,numero):\n",
        "    if numero %i==0:\n",
        "      perf+=i\n",
        "  if perf==numero:\n",
        "    print(\"Es numero perfecto\")\n",
        "    return True\n",
        "  else:\n",
        "    print(\"No es numero perfecto\")\n",
        "perfecto(6)\n"
      ],
      "metadata": {
        "id": "YUI-9cAspZjG",
        "colab": {
          "base_uri": "https://localhost:8080/"
        },
        "outputId": "4f89e614-c0e5-4db6-db90-c22841d2d28e"
      },
      "execution_count": null,
      "outputs": [
        {
          "output_type": "stream",
          "name": "stdout",
          "text": [
            "Es numero perfecto\n"
          ]
        },
        {
          "output_type": "execute_result",
          "data": {
            "text/plain": [
              "True"
            ]
          },
          "metadata": {},
          "execution_count": 8
        }
      ]
    },
    {
      "cell_type": "code",
      "source": [
        "#Jhon\n",
        "perfect=[1,2,3,4,5,6]\n",
        "perfect1=[elemento for elemento in perfect if perfecto(elemento)==True]"
      ],
      "metadata": {
        "colab": {
          "base_uri": "https://localhost:8080/"
        },
        "id": "xAzIeht8roNB",
        "outputId": "2acd7907-b286-4fb9-8206-fc7e5cc9d086"
      },
      "execution_count": null,
      "outputs": [
        {
          "output_type": "stream",
          "name": "stdout",
          "text": [
            "No es numero perfecto\n",
            "No es numero perfecto\n",
            "No es numero perfecto\n",
            "No es numero perfecto\n",
            "No es numero perfecto\n",
            "Es numero perfecto\n"
          ]
        }
      ]
    },
    {
      "cell_type": "code",
      "source": [
        "#Jhon\n",
        "perfect2=list(map(lambda elemento:perfecto(elemento)==True,perfect))\n",
        "perfect2"
      ],
      "metadata": {
        "colab": {
          "base_uri": "https://localhost:8080/"
        },
        "id": "9jQBApx5r4KQ",
        "outputId": "bc843541-5acd-48e5-e0f1-1b1fe026220c"
      },
      "execution_count": null,
      "outputs": [
        {
          "output_type": "stream",
          "name": "stdout",
          "text": [
            "No es numero perfecto\n",
            "No es numero perfecto\n",
            "No es numero perfecto\n",
            "No es numero perfecto\n",
            "No es numero perfecto\n",
            "Es numero perfecto\n"
          ]
        },
        {
          "output_type": "execute_result",
          "data": {
            "text/plain": [
              "[False, False, False, False, False, True]"
            ]
          },
          "metadata": {},
          "execution_count": 10
        }
      ]
    },
    {
      "cell_type": "code",
      "source": [
        "#JuanDivox\n",
        "import random\n",
        "numero1=[random.randint(0,2000) for x in range(100)]\n",
        "numero2=[random.randint(0,2000) for x in range(100)]\n",
        "comun=[x for x in numero1 for y in numero2 if x==y]\n",
        "print(comun)"
      ],
      "metadata": {
        "id": "AInkjIE3o-ts"
      },
      "execution_count": null,
      "outputs": []
    },
    {
      "cell_type": "code",
      "source": [
        "#JuanDivox\n",
        "import random\n",
        "numero1=[random.randint(0,2000) for x in range(100)]\n",
        "numero2=[random.randint(0,2000) for x in range(100)]\n",
        "comun=[]\n",
        "comun=list(filter(lambda num:num in numero1, numero2))\n",
        "print(comun)"
      ],
      "metadata": {
        "id": "8emn8zVarrbr"
      },
      "execution_count": null,
      "outputs": []
    },
    {
      "cell_type": "code",
      "source": [
        "#JuanDivox\n",
        "import random\n",
        "numero1=[random.randint(0,2000) for x in range(100)]\n",
        "numero2=[random.randint(0,2000) for x in range(100)]\n",
        "comun=[]\n",
        "for a in numero1:\n",
        "  for b in numero2:\n",
        "    if a==b:\n",
        "      comun.append(a)\n",
        "print(comun)"
      ],
      "metadata": {
        "id": "DerSn-TJrrzi"
      },
      "execution_count": null,
      "outputs": []
    },
    {
      "cell_type": "code",
      "source": [
        "#Daniel Alarcon\n",
        "def square1(num):\n",
        "  return num**2\n",
        "print(square1(5))"
      ],
      "metadata": {
        "id": "gzT4VSWtrz0K"
      },
      "execution_count": null,
      "outputs": []
    },
    {
      "cell_type": "code",
      "source": [
        "#Daniel Alarcon\n",
        "lambda_fun= lambda x:x**2\n",
        "lambda_fun(3)"
      ],
      "metadata": {
        "id": "l0kBZwZGr2ki"
      },
      "execution_count": null,
      "outputs": []
    },
    {
      "cell_type": "code",
      "source": [
        "#Daniel Alarcon\n",
        "L=[1,2,3,4]\n",
        "L2=[n**2 for n in L]\n",
        "print(L2)"
      ],
      "metadata": {
        "id": "V2nmzjuxr23i"
      },
      "execution_count": null,
      "outputs": []
    },
    {
      "cell_type": "code",
      "source": [
        "#Angie\n",
        "nom1=['Samuelle','Angie','Valentina','Alejandro','Jonsito']\n",
        "nom2=['Samuelle','Andrea','Samdra','Anderson','Jonsito']\n",
        "def common(nom1,nom2):\n",
        "  return nom1,nom2\n",
        "nom1,nom2"
      ],
      "metadata": {
        "id": "Xt5ujaY2yNz5"
      },
      "execution_count": null,
      "outputs": []
    },
    {
      "cell_type": "code",
      "source": [
        "#Angie\n",
        "nom1=['Samuelle','Angie','Valentina','Alejandro','Jonsito']\n",
        "nom2=['Samuelle','Andrea','Samdra','Anderson','Jonsito']\n",
        "common={a for a in nom1 for b in nom2 if a==b}\n",
        "common"
      ],
      "metadata": {
        "id": "aRB3O12CyONg"
      },
      "execution_count": null,
      "outputs": []
    },
    {
      "cell_type": "code",
      "source": [
        "#Angie\n",
        "nom1=['Samuelle','Angie','Valentina','Alejandro','Jonsito']\n",
        "nom2=['Samuelle','Andrea','Samdra','Anderson','Jonsito']\n",
        "common1=lambda nom1,nom2:common\n",
        "print(common1(nom1,nom2))"
      ],
      "metadata": {
        "id": "tqc5ixN-yOP3"
      },
      "execution_count": null,
      "outputs": []
    },
    {
      "cell_type": "code",
      "source": [
        "#Valentina\n",
        "def listaIMC(usuarios):\n",
        "  sis=[]\n",
        "  imc=[]\n",
        "  b=0\n",
        "  a2=0\n",
        "  for n in range(usuarios):\n",
        "    w=input(\"¿Cuál es tu nombre?\")\n",
        "    b=int(input(\"Ingresa el peso: \"))\n",
        "    a2=int(input(\"Ingresa la altura: \"))\n",
        "    sis.append((w,b/a2**2))\n",
        "    imc.append(b/a2**2)\n",
        "  return sis,imc\n",
        "user=int(input(\"¿Cuántos usuarios hay?: \"))\n",
        "sis,imc=listaIMC(user)\n",
        "imc"
      ],
      "metadata": {
        "id": "9AOhgnyF0orI"
      },
      "execution_count": null,
      "outputs": []
    },
    {
      "cell_type": "code",
      "source": [
        "#Valentina\n",
        "sis=listaIMC(user)\n",
        "sis2=[n for n in imc if n>=18.5]\n",
        "print(sis2)"
      ],
      "metadata": {
        "id": "xpFIRHM50pGP"
      },
      "execution_count": null,
      "outputs": []
    },
    {
      "cell_type": "code",
      "source": [
        "#Valentina\n",
        "sis3=list(map(lambda x:\"peso insuficiente\" if x<18.5 else \"peso normal\" if (x>=18.5 and x<24.9) else \"sobrepeso\" if (x>=24.9 and x<30) else \"obesidad\",imc))\n",
        "sis3"
      ],
      "metadata": {
        "id": "XHtgrXnO0pIv"
      },
      "execution_count": null,
      "outputs": []
    },
    {
      "cell_type": "code",
      "source": [
        "#Lowis\n",
        "print(\"Ingresa su código: \")\n",
        "caracter=input()\n",
        "if len(caracter)==8:\n",
        "  if caracter[0]=='u':\n",
        "    print(\"Eres estudiante de la Unab\")\n",
        "  elif(caracter.starswith(\"a000\")):\n",
        "    print(\"Eres estudiante de los Andes\")\n",
        "  else:\n",
        "    if(int(caracter)>=1950):\n",
        "      print(\"Eres estudiante de la UIS\")\n",
        "else:\n",
        "  print(\"No corresponde a ninguna universidad, revisa tu código\")"
      ],
      "metadata": {
        "id": "bUToJvnZ04zG"
      },
      "execution_count": null,
      "outputs": []
    },
    {
      "cell_type": "code",
      "source": [
        "#Lowis\n",
        "universidades=[\"unab\",\"uis\",\"andes\"]\n",
        "codigo=[\"U0015741\",\"198076\",\"a0005437\"]\n",
        "u=[cod for cod in codigo if (cod[0]=='U' and len(cod)==8)]\n",
        "print(u)"
      ],
      "metadata": {
        "id": "cMeon7vJ05E-"
      },
      "execution_count": null,
      "outputs": []
    },
    {
      "cell_type": "code",
      "source": [
        "#Lowis\n",
        "y=list(map(lambda x:\"unab\" if (x[0]=='U' or x[0]=='u') else None,codigo))\n",
        "print(y)"
      ],
      "metadata": {
        "id": "NgP-oWwF05NO"
      },
      "execution_count": null,
      "outputs": []
    },
    {
      "cell_type": "code",
      "source": [
        "#Cristhian\n",
        "def funcion(lista, numDigitos, universidad,clasCodigo):\n",
        "  clasi=[a for a in lista if a.startswith(clasCodigo) and len(a)==numDigitos]\n",
        "  print(f'Hay {len(clasi)} estudiante(s) de {universidad} y sus codigo(s) son {clasi}')\n",
        "\n",
        "lista=[]\n",
        "x=0\n",
        "while x==0:\n",
        "  entrada=input(\"Ingresa un codigo: \")\n",
        "  lista.append(entrada)\n",
        "  a=int(input(\"¿Deseas ingresar otro? Ingresa 0 si lo deseas,sino ingresa 1: \"))\n",
        "  if (a==1):\n",
        "    x=x+1\n",
        "\n",
        "funcion(lista,9,'la Unab','U00')\n",
        "funcion(lista,9,'los Andes','A000')"
      ],
      "metadata": {
        "id": "M4j6MogpPi2p"
      },
      "execution_count": null,
      "outputs": []
    },
    {
      "cell_type": "code",
      "source": [
        "#Cristhian\n",
        "lista=[]\n",
        "x=0\n",
        "while x==0:\n",
        "  entrada=input(\"Ingresa un codigo: \")\n",
        "  lista.append(entrada)\n",
        "  a=int(input(\"¿Deseas ingresar otro? Ingresa 0 si lo deseas,sino ingresa 1: \"))\n",
        "  if (a==1):\n",
        "    x=x+1\n",
        "\n",
        "clasificacion=[a for a in lista if a.startswith(\"U00\") and len(a)==9]\n",
        "print(f'Hay {len(clasificacion)} estudiante(s) de la Unab y sus codigo(s) son {clasificacion}')\n",
        "clasificacion=[a for a in lista if a.startswith(\"A000\") and len(a)==9]\n",
        "print(f'Hay {len(clasificacion)} estudiante(s) de los Andes y sus codigo(s) son {clasificacion}')"
      ],
      "metadata": {
        "id": "EHNBQsNfQLY1"
      },
      "execution_count": null,
      "outputs": []
    },
    {
      "cell_type": "code",
      "source": [
        "#Cristhian\n",
        "lista=[]\n",
        "x=0\n",
        "while x==0:\n",
        "  entrada=input(\"Ingresa un codigo: \")\n",
        "  lista.append(entrada)\n",
        "  a=int(input(\"¿Deseas ingresar otro? Ingresa 0 si lo deseas,sino ingresa 1: \"))\n",
        "  if (a==1):\n",
        "    x=x+1\n",
        "lista1=[\"U0015741\",\"198076\",\"a0005437\"]\n",
        "clasif=list(map(lambda a:\"UNAB\" if a.startswith(\"U00\") or a.startswith(\"u00\") else 'Los Andes' if a.startswith(\"A000\") or a.startswith(\"A000\") else None, lista))\n",
        "clasif"
      ],
      "metadata": {
        "id": "_wlxCyPEQNEi"
      },
      "execution_count": null,
      "outputs": []
    },
    {
      "cell_type": "code",
      "source": [
        "#Armith\n",
        "num=[1,2,3,4,5,6,7,8,9,10]\n",
        "exp=int(input(\"Escribe un exponente: \"))\n",
        "x=len(num)\n",
        "for n in range(1,(x)):\n",
        "  num[n]=num[n]**exp\n",
        "print(num)\n",
        "def imprimir(num):\n",
        "  s=1\n",
        "  for i in num:\n",
        "    print(f\"\\nEl resultado del elemento {s} de la lista es {i}\")\n",
        "    s+=1\n",
        "imprimir(num)"
      ],
      "metadata": {
        "id": "PjkYdQsVRI6K"
      },
      "execution_count": null,
      "outputs": []
    },
    {
      "cell_type": "code",
      "source": [
        "#Armith\n",
        "num=[1,2,3,4,5,6,7,8,9,10]\n",
        "exp=int(input(\"Escribe un exponente: \"))\n",
        "números=[n**exp for n in num]\n",
        "números\n",
        "imprimir(números)"
      ],
      "metadata": {
        "id": "YivBXXyyRKyC"
      },
      "execution_count": null,
      "outputs": []
    },
    {
      "cell_type": "code",
      "source": [
        "#Armith\n",
        "num=list(range(1,11))\n",
        "exp=int(input(\"Escribe un exponente: \"))\n",
        "números=lambda num,exp:(n**exp for n in num)\n",
        "número1=números(num,exp)\n",
        "imprimir(list(número1))"
      ],
      "metadata": {
        "id": "aeHUU2bHRLGH"
      },
      "execution_count": null,
      "outputs": []
    }
  ]
}
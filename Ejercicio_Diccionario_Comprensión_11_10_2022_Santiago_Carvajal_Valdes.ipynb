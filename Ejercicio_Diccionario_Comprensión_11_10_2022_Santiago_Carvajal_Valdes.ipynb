{
  "nbformat": 4,
  "nbformat_minor": 0,
  "metadata": {
    "colab": {
      "provenance": []
    },
    "kernelspec": {
      "name": "python3",
      "display_name": "Python 3"
    },
    "language_info": {
      "name": "python"
    }
  },
  "cells": [
    {
      "cell_type": "code",
      "source": [
        "import random\n",
        "clientes = [\"Alex\",\"Bob\",\"Carol\",\"Dave\",\"Flow\",\"Katie\",\"Nate\"]\n",
        "diccionario_descuentos = {cliente:random.randint(1,100) for cliente in clientes}\n",
        "print(diccionario_descuentos)\n",
        "#Resultado\n"
      ],
      "metadata": {
        "colab": {
          "base_uri": "https://localhost:8080/"
        },
        "id": "zXzvmwnBgVOq",
        "outputId": "521f2fdd-6a11-4ca2-b27f-dee7d0bc1840"
      },
      "execution_count": 7,
      "outputs": [
        {
          "output_type": "stream",
          "name": "stdout",
          "text": [
            "{'Alex': 58, 'Bob': 59, 'Carol': 61, 'Dave': 27, 'Flow': 2, 'Katie': 15, 'Nate': 88}\n"
          ]
        }
      ]
    },
    {
      "cell_type": "code",
      "source": [
        "for x in clientes:\n",
        "  print(clientes)"
      ],
      "metadata": {
        "colab": {
          "base_uri": "https://localhost:8080/"
        },
        "id": "TZGtwJZOmNfB",
        "outputId": "894b56e5-3747-4b87-8aef-d8f3b74f6171"
      },
      "execution_count": 14,
      "outputs": [
        {
          "output_type": "stream",
          "name": "stdout",
          "text": [
            "['Alex', 'Bob', 'Carol', 'Dave', 'Flow', 'Katie', 'Nate']\n"
          ]
        }
      ]
    }
  ]
}
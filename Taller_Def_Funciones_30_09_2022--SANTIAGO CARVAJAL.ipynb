{
  "nbformat": 4,
  "nbformat_minor": 0,
  "metadata": {
    "colab": {
      "provenance": []
    },
    "kernelspec": {
      "name": "python3",
      "display_name": "Python 3"
    },
    "language_info": {
      "name": "python"
    }
  },
  "cells": [
    {
      "cell_type": "code",
      "execution_count": 16,
      "metadata": {
        "colab": {
          "base_uri": "https://localhost:8080/",
          "height": 130
        },
        "id": "be7isO3ZOQHP",
        "outputId": "8b9ce219-5d02-4a77-e547-d2b40ed27c72"
      },
      "outputs": [
        {
          "output_type": "error",
          "ename": "SyntaxError",
          "evalue": "ignored",
          "traceback": [
            "\u001b[0;36m  File \u001b[0;32m\"<ipython-input-16-c9c4374f1fc8>\"\u001b[0;36m, line \u001b[0;32m17\u001b[0m\n\u001b[0;31m    ---------------------------------------------------------------------------------------------------------------------------\u001b[0m\n\u001b[0m                                                                                                                               ^\u001b[0m\n\u001b[0;31mSyntaxError\u001b[0m\u001b[0;31m:\u001b[0m invalid syntax\n"
          ]
        }
      ],
      "source": [
        "#La función \"calcularEdad\" calcula la edad de una persona\n",
        "#Lo hace restando el año actual menos el año de nacimiento\n",
        "\n",
        "def calcularEdad (añoActual, añoDeNacimiento):\n",
        "    edad = AñoActual - añoDeNacimiento\n",
        "\n",
        "#Agrega una línea en la función que devuelva la variable \"edad\"\n",
        "#Luego, afuera de la función, llámala con el año actual y tu año de nacimiento\n",
        "#Guarda el valor de llamar a esa función en la variable \"miEdad\"\n",
        "#Vuelve a llamar la función con el año actual y el año de nacimiento de tu mejor amigo(a).\n",
        "#Guarda el valor de llamar a esta función en la variable \"edadDeMiAmigo\"\n",
        "#Imprime el siguiente texto:\n",
        "#\"Tengo X años y mi mejor amigo(a) tiene Y años.\"\n",
        "#Donde X es tu edad guardada en la variable \"miEdad\"\n",
        "#Donde Y es la edad de tu mejor amigo(a) en la variable \"edadDeMiAmigo\"\n",
        "\n",
        "---------------------------------------------------------------------------------------------------------------------------\n",
        "#La función \"informacionPersonal\" recoge la información personal de una persona\n",
        "def informacionPersonal (nombre, edad, país):\n",
        "    name = \"Juana de Arco\"\n",
        "    age = 19\n",
        "    country = \"Francia\"\n",
        "print (nombre + \", de \" + país + \", tiene \" + str(edad) + \" años de edad.\")\n",
        "#Agrega una línea en la función que devuelva las variables \"name\", \"age\" y \"country\".\n",
        "#Luego, afuera de la función, en la línea 8, llámala\n",
        "#Guarda el valor de llamar a esa función en las variables \"nombre\", \"edad\" y \"país\".\n",
        "#Corre el programa. Debería imprimir el siguiente texto:\n",
        "#Juana de Arco, de Francia, tiene 10 años de edad.\n"
      ]
    },
    {
      "cell_type": "code",
      "source": [
        "def calcularEdad (añoActual, añoDeNacimiento):\n",
        "    edad = AñoActual - añoDeNacimiento\n",
        "    return \n",
        "\n",
        "ed = int(input(\"ingresa el año actual \"))\n",
        "eed = int(input(\"ingresa el año de nacimiento \"))\n",
        "eeed = int(input(\"ingresa el año actual \"))\n",
        "eeeed = int(input(\"ingresa el año de nacimiento \"))\n",
        "MiEdad1 = ed - eed\n",
        "edadDeMiAmigo = eeed - eeeed\n",
        "print(f\"Tengo \"+{MiEdad1}+\" años y mi mejor amigo tiene \"+{edadDeMiAmigo}+\" años\")\n",
        "\n"
      ],
      "metadata": {
        "colab": {
          "base_uri": "https://localhost:8080/",
          "height": 130
        },
        "id": "MuaMMioMPN3T",
        "outputId": "1e3168b4-0e6b-49e0-ea02-8a009ca04984"
      },
      "execution_count": 23,
      "outputs": [
        {
          "output_type": "error",
          "ename": "SyntaxError",
          "evalue": "ignored",
          "traceback": [
            "\u001b[0;36m  File \u001b[0;32m\"<ipython-input-23-e5dbdbe1ddf0>\"\u001b[0;36m, line \u001b[0;32m11\u001b[0m\n\u001b[0;31m    print(f\"Tengo \"(MiEdad1)\" años y mi mejor amigo tiene \"(edadDeMiAmigo)\" años\")\u001b[0m\n\u001b[0m                                                          ^\u001b[0m\n\u001b[0;31mSyntaxError\u001b[0m\u001b[0;31m:\u001b[0m invalid syntax\n"
          ]
        }
      ]
    }
  ]
}
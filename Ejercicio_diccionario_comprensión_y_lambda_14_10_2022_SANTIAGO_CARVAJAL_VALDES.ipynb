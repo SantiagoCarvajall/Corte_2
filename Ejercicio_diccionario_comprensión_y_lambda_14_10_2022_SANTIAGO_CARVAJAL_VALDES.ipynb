{
  "nbformat": 4,
  "nbformat_minor": 0,
  "metadata": {
    "colab": {
      "provenance": []
    },
    "kernelspec": {
      "name": "python3",
      "display_name": "Python 3"
    },
    "language_info": {
      "name": "python"
    }
  },
  "cells": [
    {
      "cell_type": "code",
      "execution_count": 1,
      "metadata": {
        "colab": {
          "base_uri": "https://localhost:8080/"
        },
        "id": "B2ij_ha3lW_4",
        "outputId": "1fa6dfbf-8bca-4155-8356-a5b251f12621"
      },
      "outputs": [
        {
          "output_type": "stream",
          "name": "stdout",
          "text": [
            "{'Alex': 77, 'Bob': 89, 'Carol': 90, 'Dave': 24, 'Flow': 79, 'Katie': 40, 'Nate': 67}\n"
          ]
        }
      ],
      "source": [
        "#comprensión\n",
        "import random\n",
        "clientes = [\"Alex\",\"Bob\",\"Carol\",\"Dave\",\"Flow\",\"Katie\",\"Nate\"]\n",
        "diccionario_descuentos = {cliente:random.randint(1,100) for cliente in clientes}\n",
        "print(diccionario_descuentos)\n",
        "#Resultado"
      ]
    },
    {
      "cell_type": "code",
      "source": [
        "for x in clientes:\n",
        "  print(clientes)"
      ],
      "metadata": {
        "colab": {
          "base_uri": "https://localhost:8080/"
        },
        "id": "JETvWdARl57N",
        "outputId": "f85c7353-8aa8-4030-eeb3-fa1c0a42fc22"
      },
      "execution_count": 2,
      "outputs": [
        {
          "output_type": "stream",
          "name": "stdout",
          "text": [
            "['Alex', 'Bob', 'Carol', 'Dave', 'Flow', 'Katie', 'Nate']\n",
            "['Alex', 'Bob', 'Carol', 'Dave', 'Flow', 'Katie', 'Nate']\n",
            "['Alex', 'Bob', 'Carol', 'Dave', 'Flow', 'Katie', 'Nate']\n",
            "['Alex', 'Bob', 'Carol', 'Dave', 'Flow', 'Katie', 'Nate']\n",
            "['Alex', 'Bob', 'Carol', 'Dave', 'Flow', 'Katie', 'Nate']\n",
            "['Alex', 'Bob', 'Carol', 'Dave', 'Flow', 'Katie', 'Nate']\n",
            "['Alex', 'Bob', 'Carol', 'Dave', 'Flow', 'Katie', 'Nate']\n"
          ]
        }
      ]
    },
    {
      "cell_type": "code",
      "source": [
        "#POR LAMDA\n",
        "import random\n",
        "clientes = [\"Alex\",\"Bob\",\"Carol\",\"Dave\",\"Flow\",\"Katie\",\"Nate\"]\n",
        "diccionario_descuentos = (dict(map(lambda diccionario_descuentos:(diccionario_descuentos,random.randint(1,100)),clientes)))\n",
        "print(diccionario_descuentos)"
      ],
      "metadata": {
        "colab": {
          "base_uri": "https://localhost:8080/"
        },
        "id": "5YeWOFFfl_2l",
        "outputId": "629e9f28-35b5-46b3-a4e5-62b08bdfa37d"
      },
      "execution_count": 3,
      "outputs": [
        {
          "output_type": "stream",
          "name": "stdout",
          "text": [
            "{'Alex': 21, 'Bob': 24, 'Carol': 14, 'Dave': 26, 'Flow': 39, 'Katie': 33, 'Nate': 12}\n"
          ]
        }
      ]
    }
  ]
}
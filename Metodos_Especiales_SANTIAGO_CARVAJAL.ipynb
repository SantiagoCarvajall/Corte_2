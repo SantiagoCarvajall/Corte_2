{
  "nbformat": 4,
  "nbformat_minor": 0,
  "metadata": {
    "colab": {
      "provenance": []
    },
    "kernelspec": {
      "name": "python3",
      "display_name": "Python 3"
    },
    "language_info": {
      "name": "python"
    }
  },
  "cells": [
    {
      "cell_type": "code",
      "execution_count": null,
      "metadata": {
        "colab": {
          "base_uri": "https://localhost:8080/"
        },
        "id": "1hRkG4pZNsuI",
        "outputId": "77916e96-3fb6-4b6f-c6a2-2c0b67876b82"
      },
      "outputs": [
        {
          "output_type": "stream",
          "name": "stdout",
          "text": [
            "Juan,Rodriguez\n"
          ]
        }
      ],
      "source": [
        "#Metodo__str__ \n",
        "class Persona:\n",
        "  def __init__(self,nom,ape):\n",
        "       self.nombre=nom\n",
        "       self.apellido=ape\n",
        "    \n",
        "  def __repr__(self):\n",
        "       cadena=self.nombre+\",\"+self.apellido\n",
        "       return cadena\n",
        "\n",
        "persona1 = Persona(\"Juan\",\"Rodriguez\")\n",
        "print(persona1)"
      ]
    },
    {
      "cell_type": "code",
      "source": [
        "class Empleado:\n",
        "\n",
        "    def __init__(self):\n",
        "        self.Nombre=input(\"Nombre empleado:\")\n",
        "        self.Sueldo=float(input(\"Sueldo:\"))\n",
        "\n",
        "    def imprimir(self):\n",
        "        print(\"Nombre:\",self.Nombre)\n",
        "        print(\"Sueldo:\",self.Sueldo)\n",
        "\n",
        "    def paga_impuestos(self):\n",
        "        if self.Sueldo>3000:\n",
        "            print(\"El empleado tiene que pagar impuestos\")\n",
        "        else:\n",
        "            print(f\"El empleado no {self.Nombre} tiene que pagar impuestos\")\n",
        "\n",
        "\n",
        "empleado1=Empleado()\n",
        "empleado1.imprimir()\n",
        "empleado1.paga_impuestos()\n"
      ],
      "metadata": {
        "colab": {
          "base_uri": "https://localhost:8080/"
        },
        "id": "WVrqCDV-WRrL",
        "outputId": "610b02f2-3261-42c9-e238-ce31bacd64df"
      },
      "execution_count": 17,
      "outputs": [
        {
          "output_type": "stream",
          "name": "stdout",
          "text": [
            "Nombre empleado:santiago\n",
            "Sueldo:8000000\n",
            "Nombre: santiago\n",
            "Sueldo: 8000000.0\n",
            "El empleado tiene que pagar impuestos\n"
          ]
        }
      ]
    },
    {
      "cell_type": "code",
      "source": [
        "class Ninjas:\n",
        "  def __init__(self, hp, Resistencia, xp, vidas):\n",
        "    self.hp = hp\n",
        "    self.Resistencia = Resistencia\n",
        "    self.xp = xp\n",
        "    self.vidas = vidas\n",
        "  \n",
        "  def __str__(self):\n",
        "    cadena = f'El Ninja tiene: \\n Vida: {self.hp} \\n Resistencia: {self.Resistencia} \\n xp: {self.xp} \\n Vidas: {self.vidas}'\n",
        "    return cadena\n",
        "\n",
        "ninjas = Ninjas(15000, 250, 1000, 5)\n",
        "print(ninjas)"
      ],
      "metadata": {
        "colab": {
          "base_uri": "https://localhost:8080/"
        },
        "id": "nHhrr-s9bKPM",
        "outputId": "da561482-3cd5-45e9-9fd5-dc3dbb1d6ade"
      },
      "execution_count": 18,
      "outputs": [
        {
          "output_type": "stream",
          "name": "stdout",
          "text": [
            "El Ninja tiene: \n",
            " Vida: 15000 \n",
            " Resistencia: 250 \n",
            " xp: 1000 \n",
            " Vidas: 5\n"
          ]
        }
      ]
    },
    {
      "cell_type": "code",
      "source": [
        "class Cuenta():\n",
        "\n",
        "    def __init__(self,titular,cantidad=0):\n",
        "        self.titular=titular\n",
        "        self.__cantidad=cantidad\n",
        "    \n",
        "    @property\n",
        "    def titular(self):\n",
        "        return self.__titular\n",
        "    \n",
        "    @property\n",
        "    def cantidad(self):\n",
        "        return self.__cantidad\n",
        "\n",
        "    @titular.setter\n",
        "    def titular(self,titular):\n",
        "        self.__titular=titular\n",
        "\n",
        "       \n",
        "    def mostrar(self):\n",
        "        return \"Cuenta\\n\"+\"Titular:\"+self.titular.mostrar()+\" - Cantidad:\"+str(self.cantidad)\n",
        "    \n",
        "    def ingresar(self,cantidad):\n",
        "        if cantidad > 0:\n",
        "            self.__cantidad = self.__cantidad + cantidad\n",
        "    \n",
        "    def retirar(self,cantidad):\n",
        "        if cantidad > 0:\n",
        "            self.__cantidad = self.__cantidad - cantidad\n",
        "\n",
        "cuentas = Cuenta(\"Santiago\",50)\n",
        "\n",
        "print(cuentas)"
      ],
      "metadata": {
        "colab": {
          "base_uri": "https://localhost:8080/"
        },
        "id": "CeWYzFqReYdC",
        "outputId": "92574064-2c02-4f76-a1f0-605d866402fa"
      },
      "execution_count": 28,
      "outputs": [
        {
          "output_type": "stream",
          "name": "stdout",
          "text": [
            "<__main__.Cuenta object at 0x7f6e8f3c8f10>\n"
          ]
        }
      ]
    }
  ]
}